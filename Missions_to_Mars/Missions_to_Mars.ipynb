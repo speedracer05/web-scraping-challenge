{
 "cells": [
  {
   "cell_type": "markdown",
   "id": "7d04d54f",
   "metadata": {},
   "source": [
    "# Web Scraping Homework - Mission to Mars"
   ]
  },
  {
   "cell_type": "code",
   "execution_count": null,
   "id": "779d9759",
   "metadata": {},
   "outputs": [],
   "source": [
    "from selenium import webdriver\n",
    "from webdriver_manager.chrome import ChromeDriverManager"
   ]
  },
  {
   "cell_type": "code",
   "execution_count": null,
   "id": "47d2b1e2",
   "metadata": {},
   "outputs": [],
   "source": [
    "#import dependencies\n",
    "from splinter import Browser\n",
    "from bs4 import BeautifulSoup as bs\n",
    "import pandas as pd\n",
    "import requests\n",
    "import pymongo\n",
    "from flask import Flask, render_template, redirect\n",
    "from flask_pymongo import PyMongo\n",
    "import time"
   ]
  },
  {
   "cell_type": "code",
   "execution_count": null,
   "id": "3305ae59",
   "metadata": {},
   "outputs": [],
   "source": [
    "# Setup config variables to enable Splinter interaction with browser\n",
    "executable_path = {'executable_path': ChromeDriverManager().install()}\n",
    "browser = Browser('chrome', **executable_path, headless=False)"
   ]
  },
  {
   "cell_type": "markdown",
   "id": "80da4f74",
   "metadata": {},
   "source": [
    "<strong> Hint:</strong> Use Splinter to navigate the sites when needed and BeautifulSoup to help find and parse out the necessary data."
   ]
  },
  {
   "cell_type": "code",
   "execution_count": null,
   "id": "eebe2b1a",
   "metadata": {},
   "outputs": [],
   "source": [
    "# Create dictionary to store news\n",
    "scraped_data = {}"
   ]
  },
  {
   "cell_type": "markdown",
   "id": "74c4ace2",
   "metadata": {},
   "source": [
    "## NASA Mars News"
   ]
  },
  {
   "cell_type": "markdown",
   "id": "b73730dd",
   "metadata": {},
   "source": [
    "Scrape the [NASA Mars News Site](https://mars.nasa.gov/news/) and collect the latest News Title and Paragraph Text. Assign the text to variables that you can reference later."
   ]
  },
  {
   "cell_type": "code",
   "execution_count": null,
   "id": "24bfb4de",
   "metadata": {},
   "outputs": [],
   "source": [
    "# Visit Nasa news url through splinter module\n",
    "nasa_url = \"https://redplanetscience.com\" \n",
    "browser.visit(nasa_url)\n",
    "# Wait for 5 seconds for error purpouses\n",
    "time.sleep(5)"
   ]
  },
  {
   "cell_type": "code",
   "execution_count": null,
   "id": "684bb9a3",
   "metadata": {},
   "outputs": [],
   "source": [
    "html = browser.html\n",
    "# Create BeautifulSoup object; parse with 'html.parser'\n",
    "soup = bs(html, 'html.parser')"
   ]
  },
  {
   "cell_type": "code",
   "execution_count": null,
   "id": "675b7c75",
   "metadata": {},
   "outputs": [],
   "source": [
    "# Get news title and news text by searching for appropriate div class \n",
    "news_title = soup.find('div', class_='content_title').text\n",
    "news_p = soup.find('div', class_='article_teaser_body').text\n",
    "print(news_title)\n",
    "print(news_p)"
   ]
  },
  {
   "cell_type": "code",
   "execution_count": null,
   "id": "a0d9c8cc",
   "metadata": {},
   "outputs": [],
   "source": [
    "# Create dictionary to store data and save entries\n",
    "scrape_nasa_news={\"Title\":news_title, \"Paragraph\":news_p}\n",
    "scrape_nasa_news"
   ]
  },
  {
   "cell_type": "code",
   "execution_count": null,
   "id": "c996d5aa",
   "metadata": {},
   "outputs": [],
   "source": [
    "# Save scraped data as a new entry in the dictionary\n",
    "scraped_data [\"Title\"] = news_title\n",
    "scraped_data[\"Paragraph\"] = news_p"
   ]
  },
  {
   "cell_type": "markdown",
   "id": "7f3d9715",
   "metadata": {},
   "source": [
    "## JPL Mars Space Images - Featured Image"
   ]
  },
  {
   "cell_type": "markdown",
   "id": "e66251c9",
   "metadata": {},
   "source": [
    "- Visit the url for JPL Featured Space Image [here](https://spaceimages-mars.com).\n",
    "- Use splinter to navigate the site and find the image url for the current Featured Mars Image and assign the url string to a variable called featured_image_url.\n",
    "- Find the image url to the full size .jpg image. Make sure to save a complete url string for this image."
   ]
  },
  {
   "cell_type": "code",
   "execution_count": null,
   "id": "719bdcf4",
   "metadata": {},
   "outputs": [],
   "source": [
    "mars_url = \"https://spaceimages-mars.com\" \n",
    "browser.visit( mars_url)\n",
    "image_html = browser.html\n",
    "\n",
    "# Create BeautifulSoup object; parse with 'html.parser'\n",
    "soup = bs( image_html, \"html.parser\")"
   ]
  },
  {
   "cell_type": "code",
   "execution_count": null,
   "id": "bc66122b",
   "metadata": {},
   "outputs": [],
   "source": [
    "featured_image = soup.find_all(\"img\", class_ = \"headerimage fade-in\")[0][\"src\"]\n",
    "featured_image_url = mars_url + \"/\" + featured_image\n",
    "print(featured_image_url)"
   ]
  },
  {
   "cell_type": "code",
   "execution_count": null,
   "id": "99ed3022",
   "metadata": {},
   "outputs": [],
   "source": [
    "# Create dictionary to store data and save entries\n",
    "jpl = {\"img_url\":featured_image_url}\n",
    "jpl"
   ]
  },
  {
   "cell_type": "code",
   "execution_count": null,
   "id": "52e82aac",
   "metadata": {},
   "outputs": [],
   "source": [
    "# Save scraped data as a new entry in the dictionary\n",
    "scraped_data[\"img_url\"] = featured_image_url"
   ]
  },
  {
   "cell_type": "code",
   "execution_count": null,
   "id": "9516bc82",
   "metadata": {},
   "outputs": [],
   "source": [
    "browser.quit()"
   ]
  },
  {
   "cell_type": "markdown",
   "id": "a8e9dbdf",
   "metadata": {},
   "source": [
    "## Mars Facts"
   ]
  },
  {
   "cell_type": "markdown",
   "id": "ee7a356c",
   "metadata": {},
   "source": [
    "Visit the Mars Facts webpage [here](https://galaxyfacts-mars.com/) and use Pandas to scrape the table containing facts about the planet.\n",
    "Use Pandas to convert the data to a HTML table string."
   ]
  },
  {
   "cell_type": "code",
   "execution_count": null,
   "id": "16709132",
   "metadata": {},
   "outputs": [],
   "source": [
    "facts_url = \"https://galaxyfacts-mars.com/\"\n",
    "facts_data = pd.read_html(facts_url)[0]\n",
    "facts_data"
   ]
  },
  {
   "cell_type": "code",
   "execution_count": null,
   "id": "26c892fe",
   "metadata": {},
   "outputs": [],
   "source": [
    "facts_data.columns=[\"Description\", \"Mars\", \"Earth\"]\n",
    "facts_data.set_index(\"Description\", inplace=True)\n",
    "facts_data"
   ]
  },
  {
   "cell_type": "code",
   "execution_count": null,
   "id": "86e04524",
   "metadata": {},
   "outputs": [],
   "source": [
    "facts_table = facts_data.to_html(index=False)\n",
    "facts_table"
   ]
  },
  {
   "cell_type": "code",
   "execution_count": null,
   "id": "65c12ec7",
   "metadata": {},
   "outputs": [],
   "source": [
    "# Check out table\n",
    "facts_table.replace(\"\\n\", \"\")\n",
    "print(facts_table)"
   ]
  },
  {
   "cell_type": "code",
   "execution_count": null,
   "id": "8723908b",
   "metadata": {},
   "outputs": [],
   "source": [
    "# Create dictionary to store data and save entries\n",
    "mars_facts = {\"htmlTable\":facts_data}"
   ]
  },
  {
   "cell_type": "markdown",
   "id": "a3da310c",
   "metadata": {},
   "source": [
    "## Mars Hemispheres:"
   ]
  },
  {
   "cell_type": "markdown",
   "id": "4396ecb4",
   "metadata": {},
   "source": [
    "Visit the USGS Astrogeology site [here](https://marshemispheres.com/) to obtain high resolution images for each of Mar's hemispheres.\n",
    "\n",
    "You will need to click each of the links to the hemispheres in order to find the image url to the full resolution image.\n",
    "\n",
    "Save both the image url string for the full resolution hemisphere image, and the Hemisphere title containing the hemisphere name. Use a Python dictionary to store the data using the keys img_url and title.\n",
    "\n",
    "Append the dictionary with the image url string and the hemisphere title to a list. This list will contain one dictionary for each hemisphere.\n",
    "\n",
    "<strong>Example:</strong> hemisphere_image_urls = [ {\"title\": \"Valles Marineris Hemisphere\", \"img_url\": \"...\"}, {\"title\": \"Cerberus Hemisphere\", \"img_url\": \"...\"}, {\"title\": \"Schiaparelli Hemisphere\", \"img_url\": \"...\"}, {\"title\": \"Syrtis Major Hemisphere\", \"img_url\": \"...\"}, ]"
   ]
  },
  {
   "cell_type": "code",
   "execution_count": null,
   "id": "02343c42",
   "metadata": {},
   "outputs": [],
   "source": [
    "# Visit hemisphere url through splinter module\n",
    "#Mars Hemispheres\n",
    "executable_path = {'executable_path': ChromeDriverManager().install()}\n",
    "browser = Browser('chrome', **executable_path, headless=False)\n",
    "\n",
    "hem_url = 'https://marshemispheres.com/'\n",
    "browser.visit(hem_url)"
   ]
  },
  {
   "cell_type": "code",
   "execution_count": null,
   "id": "5fdf0159",
   "metadata": {},
   "outputs": [],
   "source": [
    "html = browser.html\n",
    "# Create BeautifulSoup object; parse with 'html.parser'\n",
    "soup = bs(html, 'html.parser')"
   ]
  },
  {
   "cell_type": "code",
   "execution_count": null,
   "id": "378d6f34",
   "metadata": {},
   "outputs": [],
   "source": [
    "items = soup.find_all('div', class_='item')"
   ]
  },
  {
   "cell_type": "code",
   "execution_count": null,
   "id": "85c04390",
   "metadata": {},
   "outputs": [],
   "source": [
    "hemi_urls = []\n",
    "hemi_title = []\n",
    "\n",
    "# Create list of dictionaries for each hemisphere and append the dict \n",
    "# with an image URL string and title.\n",
    "for item in items:\n",
    "    hemi_urls.append( hem_url + item.find('a')['href'])\n",
    "    hemi_title.append( item.find('h3').text.strip())\n",
    "\n",
    "print( hemi_urls)\n",
    "hemi_title"
   ]
  },
  {
   "cell_type": "code",
   "execution_count": null,
   "id": "0c89efed",
   "metadata": {},
   "outputs": [],
   "source": [
    "hemi_img_urls = []\n",
    "\n",
    "for url in hemi_urls:\n",
    "    browser.visit(url)\n",
    "    html = browser.html\n",
    "    soup = bs(html, 'html.parser')\n",
    "    \n",
    "    # Find image urls and append to list\n",
    "    source_url = hem_url + soup.find('img',class_='wide-image')['src']\n",
    "    hemi_img_urls.append( source_url)\n",
    "    \n",
    "hemi_img_urls"
   ]
  },
  {
   "cell_type": "code",
   "execution_count": null,
   "id": "6d8ab20c",
   "metadata": {},
   "outputs": [],
   "source": [
    "# Create dictionary to store data and save entries\n",
    "usgs = []\n",
    "for i in range( len( hemi_title)):\n",
    "    usgs.append({ 'title':hemi_title[i], 'img_url':hemi_img_urls[i]})\n",
    "\n",
    "usgs"
   ]
  },
  {
   "cell_type": "code",
   "execution_count": null,
   "id": "de31b581",
   "metadata": {},
   "outputs": [],
   "source": [
    "browser.quit()"
   ]
  },
  {
   "cell_type": "code",
   "execution_count": null,
   "id": "69813424",
   "metadata": {},
   "outputs": [],
   "source": [
    "# Define mars dictionary\n",
    "mars_dict ={\"news_title\": news_title, \"news_p\": news_p, \"featured_image_url\": featured_image_url, \n",
    "            \"facts_table\": facts_table, \"hem_url\":hem_url}\n",
    "mars_dict"
   ]
  },
  {
   "cell_type": "markdown",
   "id": "382c20d6",
   "metadata": {},
   "source": [
    "## MongoDB and Flask Application"
   ]
  },
  {
   "cell_type": "markdown",
   "id": "e1dd5ae6",
   "metadata": {},
   "source": [
    "- Use MongoDB with Flask templating to create a new HTML page that displays all of the information that was scraped from the URLs above.\n",
    "- Start by converting your Jupyter notebook into a Python script called scrape_mars.py with a function called scrape that will execute all of your scraping code from above and return one Python dictionary containing all of the scraped data.\n",
    "- Next, create a route called /scrape that will import your scrape_mars.py script and call your scrape function.\n",
    "- Store the return value in Mongo as a Python dictionary.\n",
    "- Create a root route / that will query your Mongo database and pass the mars data into an HTML template to display the data.\n",
    "- Create a template HTML file called index.html that will take the mars data dictionary and display all of the data in the appropriate HTML elements. Use the following as a guide for what the final product should look like, but feel free to create your own design."
   ]
  },
  {
   "cell_type": "code",
   "execution_count": null,
   "id": "39330608",
   "metadata": {},
   "outputs": [],
   "source": [
    "# Use flask_pymongo to set up mongo connection\n",
    "# conn =  \"mongodb://localhost:27017/mars_mission_scraping\"\n",
    "# client =  pymongo.MongoClient(conn)"
   ]
  },
  {
   "cell_type": "code",
   "execution_count": null,
   "id": "c6c9dab4",
   "metadata": {},
   "outputs": [],
   "source": [
    "# Get collection and drop existing data for this application\n",
    "# db = client.mars_mission_scraping\n",
    "# db.mars_data.drop()"
   ]
  },
  {
   "cell_type": "code",
   "execution_count": null,
   "id": "c5219103",
   "metadata": {},
   "outputs": [],
   "source": [
    "# db.mars_data.insert_many([scraped_data])"
   ]
  },
  {
   "cell_type": "code",
   "execution_count": null,
   "id": "425fab19",
   "metadata": {},
   "outputs": [],
   "source": []
  }
 ],
 "metadata": {
  "kernelspec": {
   "display_name": "Python 3",
   "language": "python",
   "name": "python3"
  },
  "language_info": {
   "codemirror_mode": {
    "name": "ipython",
    "version": 3
   },
   "file_extension": ".py",
   "mimetype": "text/x-python",
   "name": "python",
   "nbconvert_exporter": "python",
   "pygments_lexer": "ipython3",
   "version": "3.6.13"
  }
 },
 "nbformat": 4,
 "nbformat_minor": 5
}
