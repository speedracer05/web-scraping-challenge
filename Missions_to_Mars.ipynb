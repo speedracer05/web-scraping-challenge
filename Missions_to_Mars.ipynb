{
 "cells": [
  {
   "cell_type": "markdown",
   "id": "7d04d54f",
   "metadata": {},
   "source": [
    "# Web Scraping Homework - Mission to Mars"
   ]
  },
  {
   "cell_type": "code",
   "execution_count": 1,
   "id": "47d2b1e2",
   "metadata": {},
   "outputs": [],
   "source": [
    "#import dependencies\n",
    "import os\n",
    "from splinter import Browser\n",
    "from bs4 import BeautifulSoup as bs\n",
    "import pandas as pd\n",
    "import requests\n",
    "from webdriver_manager.chrome import ChromeDriverManager"
   ]
  },
  {
   "cell_type": "code",
   "execution_count": 2,
   "id": "3305ae59",
   "metadata": {},
   "outputs": [
    {
     "name": "stderr",
     "output_type": "stream",
     "text": [
      "\n",
      "\n",
      "====== WebDriver manager ======\n",
      "Current google-chrome version is 93.0.4577\n",
      "Get LATEST driver version for 93.0.4577\n",
      "Driver [C:\\Users\\jchan\\.wdm\\drivers\\chromedriver\\win32\\93.0.4577.63\\chromedriver.exe] found in cache\n"
     ]
    }
   ],
   "source": [
    "# Setup config variables to enable Splinter interaction with browser\n",
    "executable_path = {'executable_path': ChromeDriverManager().install()}\n",
    "browser = Browser('chrome', **executable_path, headless=False)"
   ]
  },
  {
   "cell_type": "markdown",
   "id": "f48617e5",
   "metadata": {},
   "source": [
    "<strong> Hint:</strong> Use Splinter to navigate the sites when needed and BeautifulSoup to help find and parse out the necessary data."
   ]
  },
  {
   "cell_type": "markdown",
   "id": "74c4ace2",
   "metadata": {},
   "source": [
    "## NASA Mars News"
   ]
  },
  {
   "cell_type": "markdown",
   "id": "2de48bb0",
   "metadata": {},
   "source": [
    "Scrape the [NASA Mars News Site](https://mars.nasa.gov/news/) and collect the latest News Title and Paragraph Text. Assign the text to variables that you can reference later."
   ]
  },
  {
   "cell_type": "code",
   "execution_count": 3,
   "id": "24bfb4de",
   "metadata": {},
   "outputs": [],
   "source": [
    "# Visit Nasa news url through splinter module\n",
    "nasa_url = \"https://mars.nasa.gov/news/?page=0&per_page=40&order=publish_date+desc%2Ccreated_at+desc&search=&category=19%2C165%2C184%2C204&blank_scope=Latest\"\n",
    "browser.visit(nasa_url)"
   ]
  },
  {
   "cell_type": "code",
   "execution_count": 4,
   "id": "684bb9a3",
   "metadata": {},
   "outputs": [],
   "source": [
    "html = browser.html\n",
    "# Create BeautifulSoup object; parse with 'html.parser'\n",
    "soup = bs(html, 'html.parser')"
   ]
  },
  {
   "cell_type": "code",
   "execution_count": 5,
   "id": "675b7c75",
   "metadata": {},
   "outputs": [
    {
     "name": "stdout",
     "output_type": "stream",
     "text": [
      "NASA's Perseverance Rover Collects Puzzle Pieces of Mars' History\n",
      "The rocks it has analyzed for sample collection are helping the team better understand a past marked by volcanic activity and water.\n"
     ]
    }
   ],
   "source": [
    "\n",
    "# Get news title and news text by searching for appropriate div class \n",
    "news_title = soup.find('li', class_='slide').find('div', class_='content_title').text\n",
    "news_p = soup.find('li', class_='slide').find('div', class_='article_teaser_body').text\n",
    "print(news_title)\n",
    "print(news_p)"
   ]
  },
  {
   "cell_type": "code",
   "execution_count": 7,
   "id": "1719595f",
   "metadata": {},
   "outputs": [
    {
     "ename": "NameError",
     "evalue": "name 'nasa_news_title' is not defined",
     "output_type": "error",
     "traceback": [
      "\u001b[1;31m---------------------------------------------------------------------------\u001b[0m",
      "\u001b[1;31mNameError\u001b[0m                                 Traceback (most recent call last)",
      "\u001b[1;32m<ipython-input-7-049b3f4b04c1>\u001b[0m in \u001b[0;36m<module>\u001b[1;34m()\u001b[0m\n\u001b[0;32m      1\u001b[0m \u001b[1;31m# Create dictionary to store data\u001b[0m\u001b[1;33m\u001b[0m\u001b[1;33m\u001b[0m\u001b[1;33m\u001b[0m\u001b[0m\n\u001b[1;32m----> 2\u001b[1;33m \u001b[0mscrape_nasa_news\u001b[0m\u001b[1;33m=\u001b[0m\u001b[1;33m{\u001b[0m\u001b[1;34m\"Title\"\u001b[0m\u001b[1;33m:\u001b[0m\u001b[0mnasa_news_title\u001b[0m\u001b[1;33m,\u001b[0m \u001b[1;34m\"Paragraph\"\u001b[0m\u001b[1;33m:\u001b[0m\u001b[0mnasa_news_p\u001b[0m\u001b[1;33m}\u001b[0m\u001b[1;33m\u001b[0m\u001b[1;33m\u001b[0m\u001b[0m\n\u001b[0m\u001b[0;32m      3\u001b[0m \u001b[0mscrape_nasa_news\u001b[0m\u001b[1;33m\u001b[0m\u001b[1;33m\u001b[0m\u001b[0m\n",
      "\u001b[1;31mNameError\u001b[0m: name 'nasa_news_title' is not defined"
     ]
    }
   ],
   "source": [
    "# Create dictionary to store data\n",
    "scrape_nasa_news={\"Title\":news_title, \"Paragraph\":news_p}\n",
    "scrape_nasa_news"
   ]
  },
  {
   "cell_type": "markdown",
   "id": "ca718fdb",
   "metadata": {},
   "source": [
    "## JPL Mars Space Images - Featured Image"
   ]
  },
  {
   "cell_type": "markdown",
   "id": "55d7316f",
   "metadata": {},
   "source": [
    "- Visit the url for JPL Featured Space Image [here](https://www.jpl.nasa.gov/spaceimages/?search=&category=Mars).\n",
    "- Use splinter to navigate the site and find the image url for the current Featured Mars Image and assign the url string to a variable called featured_image_url.\n",
    "- Find the image url to the full size .jpg image. Make sure to save a complete url string for this image."
   ]
  },
  {
   "cell_type": "code",
   "execution_count": null,
   "id": "840c942f",
   "metadata": {},
   "outputs": [],
   "source": [
    "# JPL URL\n",
    "jpl_url_img = \"https://www.jpl.nasa.gov/spaceimages/?search=&category=Mars\"\n",
    "    \n",
    "# Go to the JPL URL\n",
    "browser.visit(jpl_url_img)"
   ]
  },
  {
   "cell_type": "code",
   "execution_count": null,
   "id": "92250152",
   "metadata": {},
   "outputs": [],
   "source": [
    "# Create BeautifulSoup object; parse with 'html.parser\n",
    "soup = bs(jpl_url_img)"
   ]
  }
 ],
 "metadata": {
  "kernelspec": {
   "display_name": "Python 3",
   "language": "python",
   "name": "python3"
  },
  "language_info": {
   "codemirror_mode": {
    "name": "ipython",
    "version": 3
   },
   "file_extension": ".py",
   "mimetype": "text/x-python",
   "name": "python",
   "nbconvert_exporter": "python",
   "pygments_lexer": "ipython3",
   "version": "3.6.13"
  }
 },
 "nbformat": 4,
 "nbformat_minor": 5
}
