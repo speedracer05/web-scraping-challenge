{
 "cells": [
  {
   "cell_type": "markdown",
   "id": "7d04d54f",
   "metadata": {},
   "source": [
    "# Web Scraping Homework - Mission to Mars"
   ]
  },
  {
   "cell_type": "code",
   "execution_count": 1,
   "id": "47d2b1e2",
   "metadata": {},
   "outputs": [],
   "source": [
    "#import dependencies\n",
    "from splinter import Browser\n",
    "from bs4 import BeautifulSoup as bs\n",
    "import pandas as pd\n",
    "import requests\n",
    "import pymongo\n",
    "from flask import Flask, render_template, redirect\n",
    "from flask_pymongo import PyMongo\n",
    "from webdriver_manager.chrome import ChromeDriverManager"
   ]
  },
  {
   "cell_type": "code",
   "execution_count": 2,
   "id": "3305ae59",
   "metadata": {},
   "outputs": [
    {
     "name": "stderr",
     "output_type": "stream",
     "text": [
      "\n",
      "\n",
      "====== WebDriver manager ======\n",
      "Current google-chrome version is 93.0.4577\n",
      "Get LATEST driver version for 93.0.4577\n",
      "Driver [C:\\Users\\jchan\\.wdm\\drivers\\chromedriver\\win32\\93.0.4577.63\\chromedriver.exe] found in cache\n"
     ]
    }
   ],
   "source": [
    "# Setup config variables to enable Splinter interaction with browser\n",
    "executable_path = {'executable_path': ChromeDriverManager().install()}\n",
    "browser = Browser('chrome', **executable_path, headless=False)"
   ]
  },
  {
   "cell_type": "markdown",
   "id": "d9e7680b",
   "metadata": {},
   "source": [
    "<strong> Hint:</strong> Use Splinter to navigate the sites when needed and BeautifulSoup to help find and parse out the necessary data."
   ]
  },
  {
   "cell_type": "code",
   "execution_count": 3,
   "id": "d5ecb79f",
   "metadata": {},
   "outputs": [],
   "source": [
    "# Create dictionary to store news\n",
    "nasa_data = {}"
   ]
  },
  {
   "cell_type": "markdown",
   "id": "74c4ace2",
   "metadata": {},
   "source": [
    "## NASA Mars News"
   ]
  },
  {
   "cell_type": "markdown",
   "id": "d53a0b42",
   "metadata": {},
   "source": [
    "Scrape the [NASA Mars News Site](https://mars.nasa.gov/news/) and collect the latest News Title and Paragraph Text. Assign the text to variables that you can reference later."
   ]
  },
  {
   "cell_type": "code",
   "execution_count": 4,
   "id": "24bfb4de",
   "metadata": {},
   "outputs": [],
   "source": [
    "# Visit Nasa news url through splinter module\n",
    "nasa_url = \"https://redplanetscience.com\" \n",
    "browser.visit(nasa_url)"
   ]
  },
  {
   "cell_type": "code",
   "execution_count": 5,
   "id": "684bb9a3",
   "metadata": {},
   "outputs": [],
   "source": [
    "html = browser.html\n",
    "# Create BeautifulSoup object; parse with 'html.parser'\n",
    "soup = bs(html, 'html.parser')"
   ]
  },
  {
   "cell_type": "code",
   "execution_count": 6,
   "id": "675b7c75",
   "metadata": {},
   "outputs": [
    {
     "name": "stdout",
     "output_type": "stream",
     "text": [
      "HiRISE Views NASA's InSight and Curiosity on Mars\n",
      "New images taken from space offer the clearest orbital glimpse yet of InSight as well as a view of Curiosity rolling along.\n"
     ]
    }
   ],
   "source": [
    "# Get news title and news text by searching for appropriate div class \n",
    "news_title = soup.find('div', class_='content_title').text\n",
    "news_p = soup.find('div', class_='article_teaser_body').text\n",
    "print(news_title)\n",
    "print(news_p)"
   ]
  },
  {
   "cell_type": "code",
   "execution_count": 7,
   "id": "2139e752",
   "metadata": {},
   "outputs": [
    {
     "data": {
      "text/plain": [
       "{'Title': \"HiRISE Views NASA's InSight and Curiosity on Mars\",\n",
       " 'Paragraph': 'New images taken from space offer the clearest orbital glimpse yet of InSight as well as a view of Curiosity rolling along.'}"
      ]
     },
     "execution_count": 7,
     "metadata": {},
     "output_type": "execute_result"
    }
   ],
   "source": [
    "# Create dictionary to store data and save entries\n",
    "scrape_nasa_news={\"Title\":news_title, \"Paragraph\":news_p}\n",
    "scrape_nasa_news"
   ]
  },
  {
   "cell_type": "code",
   "execution_count": 8,
   "id": "dbabcf85",
   "metadata": {},
   "outputs": [],
   "source": [
    "# Save scraped data as a new entry in the dictionary\n",
    "nasa_data [\"Title\"] = news_title\n",
    "nasa_data[\"Paragraph\"] = news_p"
   ]
  },
  {
   "cell_type": "markdown",
   "id": "e669aca9",
   "metadata": {},
   "source": [
    "## JPL Mars Space Images - Featured Image"
   ]
  },
  {
   "cell_type": "markdown",
   "id": "467d32c8",
   "metadata": {},
   "source": [
    "- Visit the url for JPL Featured Space Image [here](https://www.jpl.nasa.gov/spaceimages/?search=&category=Mars).\n",
    "- Use splinter to navigate the site and find the image url for the current Featured Mars Image and assign the url string to a variable called featured_image_url.\n",
    "- Find the image url to the full size .jpg image. Make sure to save a complete url string for this image."
   ]
  },
  {
   "cell_type": "code",
   "execution_count": 9,
   "id": "766489e3",
   "metadata": {},
   "outputs": [],
   "source": [
    "mars_url = \"https://spaceimages-mars.com\" \n",
    "browser.visit( mars_url)\n",
    "image_html = browser.html\n",
    "\n",
    "# Create BeautifulSoup object; parse with 'html.parser'\n",
    "soup = bs(image_html, \"html.parser\")"
   ]
  },
  {
   "cell_type": "code",
   "execution_count": 10,
   "id": "5deb4126",
   "metadata": {},
   "outputs": [
    {
     "name": "stdout",
     "output_type": "stream",
     "text": [
      "https://spaceimages-mars.comimage/featured/mars1.jpg\n"
     ]
    }
   ],
   "source": [
    "featured_image = soup.find_all(\"img\", class_ = \"headerimage fade-in\")[0][\"src\"]\n",
    "featured_image_url = mars_url + featured_image\n",
    "print(featured_image_url)"
   ]
  },
  {
   "cell_type": "code",
   "execution_count": 14,
   "id": "e7ea1ee5",
   "metadata": {},
   "outputs": [],
   "source": [
    "browser.quit()"
   ]
  },
  {
   "cell_type": "markdown",
   "id": "c31e2a09",
   "metadata": {},
   "source": [
    "## Mars Facts"
   ]
  },
  {
   "cell_type": "markdown",
   "id": "a2216ee3",
   "metadata": {},
   "source": [
    "Visit the Mars Facts webpage [here](https://galaxyfacts-mars.com/) and use Pandas to scrape the table containing facts about the planet.\n",
    "Use Pandas to convert the data to a HTML table string."
   ]
  },
  {
   "cell_type": "code",
   "execution_count": null,
   "id": "6d227995",
   "metadata": {},
   "outputs": [],
   "source": [
    "facts_url = \"https://galaxyfacts-mars.com/\"\n",
    "facts_data = pd.read_html(facts_url)\n",
    "\n",
    "facts_df = facts_data[0]\n",
    "facts_table = facts_df.to_html(index=False)\n",
    "facts_table"
   ]
  },
  {
   "cell_type": "code",
   "execution_count": null,
   "id": "8f760dd9",
   "metadata": {},
   "outputs": [],
   "source": [
    "# Check out table\n",
    "facts_df[1]"
   ]
  },
  {
   "cell_type": "markdown",
   "id": "50b8d840",
   "metadata": {},
   "source": [
    "## Mars Hemispheres:"
   ]
  },
  {
   "cell_type": "markdown",
   "id": "e07d168d",
   "metadata": {},
   "source": [
    "Visit the USGS Astrogeology site [here](https://marshemispheres.com/) to obtain high resolution images for each of Mar's hemispheres.\n",
    "\n",
    "You will need to click each of the links to the hemispheres in order to find the image url to the full resolution image.\n",
    "\n",
    "Save both the image url string for the full resolution hemisphere image, and the Hemisphere title containing the hemisphere name. Use a Python dictionary to store the data using the keys img_url and title.\n",
    "\n",
    "Append the dictionary with the image url string and the hemisphere title to a list. This list will contain one dictionary for each hemisphere.\n",
    "\n",
    "<strong>Example:</strong> hemisphere_image_urls = [ {\"title\": \"Valles Marineris Hemisphere\", \"img_url\": \"...\"}, {\"title\": \"Cerberus Hemisphere\", \"img_url\": \"...\"}, {\"title\": \"Schiaparelli Hemisphere\", \"img_url\": \"...\"}, {\"title\": \"Syrtis Major Hemisphere\", \"img_url\": \"...\"}, ]"
   ]
  },
  {
   "cell_type": "code",
   "execution_count": null,
   "id": "c2b52fa6",
   "metadata": {},
   "outputs": [],
   "source": [
    "# Visit hemisphere url through splinter module\n",
    "hemisphere_url = \"https://astrogeology.usgs.gov/search/results?q=hemisphere+enhanced&k1=target&v1=Mars\"\n",
    "browser.visit(hemisphere_url)"
   ]
  },
  {
   "cell_type": "code",
   "execution_count": null,
   "id": "e8dda90c",
   "metadata": {},
   "outputs": [],
   "source": [
    "html = browser.html\n",
    "# Create BeautifulSoup object; parse with 'html.parser'\n",
    "soup = bs(html, 'html.parser')"
   ]
  },
  {
   "cell_type": "code",
   "execution_count": null,
   "id": "1160c1cf",
   "metadata": {},
   "outputs": [],
   "source": [
    "hemisphere_links = soup.find_all('div', class_='item')"
   ]
  },
  {
   "cell_type": "code",
   "execution_count": null,
   "id": "fe0e2a6f",
   "metadata": {},
   "outputs": [],
   "source": [
    "hemisphere_img_urls = []\n",
    "\n",
    "for i in range(4): \n",
    "    browser.find_by_tag('h3')[i].click()\n",
    "    soup = bs(browser.html, 'html.parser')\n",
    "    img_title = soup.find(\"h2\", class_=\"title\").text\n",
    "    img_url = soup.find(\"a\", text =\"Sample\")[\"href\"]\n",
    "    hem_dic = {\"title\": img_title, \"url\": img_url}\n",
    "    hemisphere_img_urls.append(hem_dic)\n",
    "    browser.back()\n",
    "\n",
    "hemisphere_img_urls"
   ]
  },
  {
   "cell_type": "code",
   "execution_count": null,
   "id": "263d308a",
   "metadata": {},
   "outputs": [],
   "source": [
    "browser.quit()"
   ]
  },
  {
   "cell_type": "code",
   "execution_count": null,
   "id": "e18e00a6",
   "metadata": {},
   "outputs": [],
   "source": [
    "# Define mars dictionary\n",
    "mars_dict ={\"news_title\": news_title, \"news_p\": news_p, \"mars_feature_img\": mars_feature_img, \n",
    "            \"facts_table\": mars_feature_img, \"hemisphere_img_urls\":mars_feature_img}\n",
    "mars_dict.head(2)"
   ]
  }
 ],
 "metadata": {
  "kernelspec": {
   "display_name": "Python 3",
   "language": "python",
   "name": "python3"
  },
  "language_info": {
   "codemirror_mode": {
    "name": "ipython",
    "version": 3
   },
   "file_extension": ".py",
   "mimetype": "text/x-python",
   "name": "python",
   "nbconvert_exporter": "python",
   "pygments_lexer": "ipython3",
   "version": "3.6.13"
  }
 },
 "nbformat": 4,
 "nbformat_minor": 5
}
