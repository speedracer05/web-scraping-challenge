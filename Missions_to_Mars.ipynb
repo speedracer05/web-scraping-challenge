{
 "cells": [
  {
   "cell_type": "markdown",
   "id": "2737233d",
   "metadata": {},
   "source": [
    "# Web Scraping Homework - Mission to Mars"
   ]
  },
  {
   "cell_type": "code",
   "execution_count": null,
   "id": "04a54fcc",
   "metadata": {},
   "outputs": [],
   "source": [
    "from selenium import webdriver\n",
    "from webdriver_manager.chrome import ChromeDriverManager"
   ]
  },
  {
   "cell_type": "code",
   "execution_count": null,
   "id": "91a62050",
   "metadata": {},
   "outputs": [],
   "source": [
    "#import dependencies\n",
    "from splinter import Browser\n",
    "from bs4 import BeautifulSoup as bs\n",
    "import pandas as pd\n",
    "import requests\n",
    "import pymongo\n",
    "from flask import Flask, render_template, redirect\n",
    "from flask_pymongo import PyMongo\n",
    "import time"
   ]
  },
  {
   "cell_type": "code",
   "execution_count": null,
   "id": "bee9c0e2",
   "metadata": {},
   "outputs": [],
   "source": [
    "# Setup config variables to enable Splinter interaction with browser\n",
    "executable_path = {'executable_path': ChromeDriverManager().install()}\n",
    "browser = Browser('chrome', **executable_path, headless=False)"
   ]
  },
  {
   "cell_type": "markdown",
   "id": "67ce094f",
   "metadata": {},
   "source": [
    "<strong> Hint:</strong> Use Splinter to navigate the sites when needed and BeautifulSoup to help find and parse out the necessary data."
   ]
  },
  {
   "cell_type": "code",
   "execution_count": null,
   "id": "e780978b",
   "metadata": {},
   "outputs": [],
   "source": [
    "# Create dictionary to store news\n",
    "scraped_data = {}"
   ]
  },
  {
   "cell_type": "markdown",
   "id": "67d5db28",
   "metadata": {},
   "source": [
    "## NASA Mars News"
   ]
  },
  {
   "cell_type": "markdown",
   "id": "06e64655",
   "metadata": {},
   "source": [
    "Scrape the [NASA Mars News Site](https://mars.nasa.gov/news/) and collect the latest News Title and Paragraph Text. Assign the text to variables that you can reference later."
   ]
  },
  {
   "cell_type": "code",
   "execution_count": null,
   "id": "af8e9fbd",
   "metadata": {},
   "outputs": [],
   "source": [
    "# Visit Nasa news url through splinter module\n",
    "nasa_url = \"https://redplanetscience.com\" \n",
    "browser.visit(nasa_url)\n",
    "# Wait for 5 seconds for error purpouses\n",
    "time.sleep(5)"
   ]
  },
  {
   "cell_type": "code",
   "execution_count": null,
   "id": "e3589d07",
   "metadata": {},
   "outputs": [],
   "source": [
    "html = browser.html\n",
    "# Create BeautifulSoup object; parse with 'html.parser'\n",
    "soup = bs(html, 'html.parser')"
   ]
  },
  {
   "cell_type": "code",
   "execution_count": null,
   "id": "266f813b",
   "metadata": {},
   "outputs": [],
   "source": [
    "# Get news title and news text by searching for appropriate div class \n",
    "news_title = soup.find('div', class_='content_title').text\n",
    "news_p = soup.find('div', class_='article_teaser_body').text\n",
    "print(news_title)\n",
    "print(news_p)"
   ]
  },
  {
   "cell_type": "code",
   "execution_count": null,
   "id": "92ec1720",
   "metadata": {},
   "outputs": [],
   "source": [
    "# Create dictionary to store data and save entries\n",
    "scrape_nasa_news={\"Title\":news_title, \"Paragraph\":news_p}\n",
    "scrape_nasa_news"
   ]
  },
  {
   "cell_type": "code",
   "execution_count": null,
   "id": "75c32a6e",
   "metadata": {},
   "outputs": [],
   "source": [
    "# Save scraped data as a new entry in the dictionary\n",
    "scraped_data [\"Title\"] = news_title\n",
    "scraped_data[\"Paragraph\"] = news_p"
   ]
  },
  {
   "cell_type": "markdown",
   "id": "ae1c85f0",
   "metadata": {},
   "source": [
    "## JPL Mars Space Images - Featured Image"
   ]
  },
  {
   "cell_type": "markdown",
   "id": "222fb93a",
   "metadata": {},
   "source": [
    "- Visit the url for JPL Featured Space Image [here](https://spaceimages-mars.com).\n",
    "- Use splinter to navigate the site and find the image url for the current Featured Mars Image and assign the url string to a variable called featured_image_url.\n",
    "- Find the image url to the full size .jpg image. Make sure to save a complete url string for this image."
   ]
  },
  {
   "cell_type": "code",
   "execution_count": null,
   "id": "5a1ac55a",
   "metadata": {},
   "outputs": [],
   "source": [
    "mars_url = \"https://spaceimages-mars.com\" \n",
    "browser.visit( mars_url)\n",
    "image_html = browser.html\n",
    "\n",
    "# Create BeautifulSoup object; parse with 'html.parser'\n",
    "soup = bs( image_html, \"html.parser\")"
   ]
  },
  {
   "cell_type": "code",
   "execution_count": null,
   "id": "94d18c89",
   "metadata": {},
   "outputs": [],
   "source": [
    "featured_image = soup.find_all(\"img\", class_ = \"headerimage fade-in\")[0][\"src\"]\n",
    "featured_image_url = mars_url + \"/\" + featured_image\n",
    "print(featured_image_url)"
   ]
  },
  {
   "cell_type": "code",
   "execution_count": null,
   "id": "aee2da21",
   "metadata": {},
   "outputs": [],
   "source": [
    "# Create dictionary to store data and save entries\n",
    "jpl = {\"ImageURL\":featured_image_url}\n",
    "jpl"
   ]
  },
  {
   "cell_type": "code",
   "execution_count": null,
   "id": "aad42c01",
   "metadata": {},
   "outputs": [],
   "source": [
    "# Save scraped data as a new entry in the dictionary\n",
    "scraped_data[\"ImageURL\"] = featured_image_url"
   ]
  },
  {
   "cell_type": "code",
   "execution_count": null,
   "id": "63ffbbe8",
   "metadata": {},
   "outputs": [],
   "source": [
    "browser.quit()"
   ]
  },
  {
   "cell_type": "markdown",
   "id": "5c1ffa73",
   "metadata": {},
   "source": [
    "## Mars Facts"
   ]
  },
  {
   "cell_type": "markdown",
   "id": "9cf85395",
   "metadata": {},
   "source": [
    "Visit the Mars Facts webpage [here](https://galaxyfacts-mars.com/) and use Pandas to scrape the table containing facts about the planet.\n",
    "Use Pandas to convert the data to a HTML table string."
   ]
  },
  {
   "cell_type": "code",
   "execution_count": null,
   "id": "17335fcb",
   "metadata": {},
   "outputs": [],
   "source": [
    "facts_url = \"https://galaxyfacts-mars.com/\"\n",
    "facts_data = pd.read_html(facts_url)\n",
    "facts_data"
   ]
  },
  {
   "cell_type": "code",
   "execution_count": null,
   "id": "dc1c1742",
   "metadata": {},
   "outputs": [],
   "source": [
    "facts_data[0]"
   ]
  },
  {
   "cell_type": "code",
   "execution_count": null,
   "id": "d23e1fe8",
   "metadata": {},
   "outputs": [],
   "source": [
    "facts_data[1]"
   ]
  },
  {
   "cell_type": "code",
   "execution_count": null,
   "id": "4b91c758",
   "metadata": {},
   "outputs": [],
   "source": [
    "mars_facts = facts_data[1]\n",
    "mars_facts.rename(columns={0: \"Description\",1: \"Mars\"}, inplace=True)\n",
    "mars_facts = mars_facts.set_index(\"Description\")\n",
    "mars_facts"
   ]
  },
  {
   "cell_type": "code",
   "execution_count": null,
   "id": "36a80b2f",
   "metadata": {},
   "outputs": [],
   "source": [
    "facts_table = mars_facts.to_html(index=False)\n",
    "facts_table"
   ]
  },
  {
   "cell_type": "code",
   "execution_count": null,
   "id": "a57c02db",
   "metadata": {},
   "outputs": [],
   "source": [
    "# Check out table\n",
    "# facts_table.replace(\"\\n\", \"\")\n",
    "# print(facts_table)"
   ]
  },
  {
   "cell_type": "code",
   "execution_count": null,
   "id": "b3a831ef",
   "metadata": {},
   "outputs": [],
   "source": [
    "# Create dictionary to store data and save entries\n",
    "scraped_data[\"TableHTML\"] = mars_facts.to_html()"
   ]
  },
  {
   "cell_type": "markdown",
   "id": "61dd9989",
   "metadata": {},
   "source": [
    "## Mars Hemispheres:"
   ]
  },
  {
   "cell_type": "markdown",
   "id": "1641494b",
   "metadata": {},
   "source": [
    "Visit the USGS Astrogeology site [here](https://marshemispheres.com/) to obtain high resolution images for each of Mar's hemispheres.\n",
    "\n",
    "You will need to click each of the links to the hemispheres in order to find the image url to the full resolution image.\n",
    "\n",
    "Save both the image url string for the full resolution hemisphere image, and the Hemisphere title containing the hemisphere name. Use a Python dictionary to store the data using the keys img_url and title.\n",
    "\n",
    "Append the dictionary with the image url string and the hemisphere title to a list. This list will contain one dictionary for each hemisphere.\n",
    "\n",
    "<strong>Example:</strong> hemisphere_image_urls = [ {\"title\": \"Valles Marineris Hemisphere\", \"img_url\": \"...\"}, {\"title\": \"Cerberus Hemisphere\", \"img_url\": \"...\"}, {\"title\": \"Schiaparelli Hemisphere\", \"img_url\": \"...\"}, {\"title\": \"Syrtis Major Hemisphere\", \"img_url\": \"...\"}, ]"
   ]
  },
  {
   "cell_type": "code",
   "execution_count": null,
   "id": "87e6ad10",
   "metadata": {},
   "outputs": [],
   "source": [
    "# Visit hemisphere url through splinter module\n",
    "#Mars Hemispheres\n",
    "executable_path = {'executable_path': ChromeDriverManager().install()}\n",
    "browser = Browser('chrome', **executable_path, headless=False)\n",
    "\n",
    "hem_url = 'https://marshemispheres.com/'\n",
    "browser.visit(hem_url)"
   ]
  },
  {
   "cell_type": "code",
   "execution_count": null,
   "id": "b29013a5",
   "metadata": {},
   "outputs": [],
   "source": [
    "html = browser.html\n",
    "# Create BeautifulSoup object; parse with 'html.parser'\n",
    "soup = bs(html, 'html.parser')"
   ]
  },
  {
   "cell_type": "code",
   "execution_count": null,
   "id": "bd7ec621",
   "metadata": {},
   "outputs": [],
   "source": [
    "items = soup.find_all('div', class_='item')"
   ]
  },
  {
   "cell_type": "code",
   "execution_count": null,
   "id": "f9165dac",
   "metadata": {},
   "outputs": [],
   "source": [
    "hemi_urls = []\n",
    "hemi_title = []\n",
    "\n",
    "# Create list of dictionaries for each hemisphere and append the dict \n",
    "# with an image URL string and title.\n",
    "for item in items:\n",
    "    hemi_urls.append( hem_url + item.find('a')['href'])\n",
    "    hemi_title.append( item.find('h3').text.strip())\n",
    "\n",
    "print( hemi_urls)\n",
    "hemi_title"
   ]
  },
  {
   "cell_type": "code",
   "execution_count": null,
   "id": "699d9c59",
   "metadata": {},
   "outputs": [],
   "source": [
    "hemi_img_urls = []\n",
    "\n",
    "for url in hemi_urls:\n",
    "    browser.visit(url)\n",
    "    html = browser.html\n",
    "    soup = bs(html, 'html.parser')\n",
    "    \n",
    "    # Find image urls and append to list\n",
    "    source_url = hem_url + soup.find('img',class_='wide-image')['src']\n",
    "    hemi_img_urls.append( source_url)\n",
    "    \n",
    "hemi_img_urls"
   ]
  },
  {
   "cell_type": "code",
   "execution_count": null,
   "id": "51e2d527",
   "metadata": {},
   "outputs": [],
   "source": [
    "hemisphere_urls = []\n",
    "\n",
    "for i in range(len(hemi_title)):\n",
    "    hemisphere_urls.append({\"title\":hemi_title[i], \"url\":hemi_img_urls[i]})\n",
    "\n",
    "hemisphere_urls"
   ]
  },
  {
   "cell_type": "code",
   "execution_count": null,
   "id": "c335ef83",
   "metadata": {},
   "outputs": [],
   "source": [
    "browser.quit()"
   ]
  },
  {
   "cell_type": "code",
   "execution_count": null,
   "id": "5991b0f9",
   "metadata": {},
   "outputs": [],
   "source": [
    "# Dictionary of all Mars info scraped\n",
    "mars_dict ={\"Title\": news_title, \"Paragraph\": news_p, \"ImageURL\": featured_image_url, \n",
    "            \"Table\": facts_table, \"ListImages\": hemisphere_urls}\n",
    "mars_dict"
   ]
  },
  {
   "cell_type": "code",
   "execution_count": null,
   "id": "acf9dcea",
   "metadata": {},
   "outputs": [],
   "source": []
  },
  {
   "cell_type": "markdown",
   "id": "9216f6d6",
   "metadata": {},
   "source": [
    "## MongoDB and Flask Application"
   ]
  },
  {
   "cell_type": "markdown",
   "id": "0fa3354d",
   "metadata": {},
   "source": [
    "- Use MongoDB with Flask templating to create a new HTML page that displays all of the information that was scraped from the URLs above.\n",
    "- Start by converting your Jupyter notebook into a Python script called scrape_mars.py with a function called scrape that will execute all of your scraping code from above and return one Python dictionary containing all of the scraped data.\n",
    "- Next, create a route called /scrape that will import your scrape_mars.py script and call your scrape function.\n",
    "- Store the return value in Mongo as a Python dictionary.\n",
    "- Create a root route / that will query your Mongo database and pass the mars data into an HTML template to display the data.\n",
    "- Create a template HTML file called index.html that will take the mars data dictionary and display all of the data in the appropriate HTML elements. Use the following as a guide for what the final product should look like, but feel free to create your own design."
   ]
  },
  {
   "cell_type": "code",
   "execution_count": null,
   "id": "d26c916c",
   "metadata": {},
   "outputs": [],
   "source": [
    "# Use flask_pymongo to set up mongo connection\n",
    "from pymongo import MongoClient\n",
    "conn =  \"mongodb://localhost:27017/mars_mission_scraping\"\n",
    "client =  pymongo.MongoClient(conn)"
   ]
  },
  {
   "cell_type": "markdown",
   "id": "fcc884b9",
   "metadata": {},
   "source": []
  },
  {
   "cell_type": "code",
   "execution_count": null,
   "id": "f62e4615",
   "metadata": {},
   "outputs": [],
   "source": [
    "# Get collection and drop existing data for this application\n",
    "db = client.mars_mission_scraping\n",
    "db.mars_data.drop()"
   ]
  },
  {
   "cell_type": "code",
   "execution_count": null,
   "id": "01b111f2",
   "metadata": {},
   "outputs": [],
   "source": [
    "db.mars_data.insert_many([scraped_data])"
   ]
  },
  {
   "cell_type": "code",
   "execution_count": null,
   "id": "bd4b639b",
   "metadata": {},
   "outputs": [],
   "source": [
    "query_result = (db.mars_data.find())\n",
    "query_result"
   ]
  }
 ],
 "metadata": {
  "interpreter": {
   "hash": "9e69114408c56b3cc24c531fa9113201664748820a3bf7bfa51705a53f5a976b"
  },
  "kernelspec": {
   "display_name": "Python 3",
   "language": "python",
   "name": "python3"
  },
  "language_info": {
   "codemirror_mode": {
    "name": "ipython",
    "version": 3
   },
   "file_extension": ".py",
   "mimetype": "text/x-python",
   "name": "python",
   "nbconvert_exporter": "python",
   "pygments_lexer": "ipython3",
   "version": "3.6.13"
  }
 },
 "nbformat": 4,
 "nbformat_minor": 5
}
